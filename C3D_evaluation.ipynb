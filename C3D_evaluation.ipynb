{
 "cells": [
  {
   "cell_type": "code",
   "execution_count": null,
   "id": "134179fb-8278-41e3-9997-6be7e85aa637",
   "metadata": {},
   "outputs": [],
   "source": [
    "import sys\n",
    "from pathlib import Path\n",
    "\n",
    "import numpy as np\n",
    "\n",
    "import torch\n",
    "import torchvision\n",
    "import torchvision.transforms as T\n",
    "\n",
    "import matplotlib.pyplot as plt\n",
    "from tqdm import tqdm, trange\n",
    "\n",
    "from methods import gradcam3d as gradcam\n",
    "from methods import rise3d as rise\n",
    "from methods import sidu3d as sidu\n",
    "from metrics import insertion3d as insertion\n",
    "from metrics import deletion3d as deletion\n",
    "from util import normalize\n",
    "\n",
    "dataset_path = Path('/data/SOIB')\n",
    "sys.path.append(str(dataset_path))\n",
    "\n",
    "from SOIB import SOIB_Dataset\n",
    "\n",
    "norm = lambda x: (x-x.min()) / (x.max() - x.min()+1e-13)\n",
    "\n",
    "modality = 'IR'\n",
    "net_modality = 'IR'\n",
    "\n",
    "assert modality in ['IR', 'TV', 'IRTV']\n",
    "assert net_modality in ['IR', 'TV', 'IRTV']"
   ]
  },
  {
   "cell_type": "code",
   "execution_count": null,
   "id": "096e607f-87ea-4228-aa0c-d1d726e832c9",
   "metadata": {},
   "outputs": [],
   "source": [
    "from transformations import RandomSequenceCrop\n",
    "\n",
    "        \n",
    "transform = T.Compose([\n",
    "    RandomSequenceCrop(length=16, padding='clamp'),\n",
    "    T.Lambda(lambda x: torch.stack([torchvision.io.read_image(str(path)) for path in x])/255),\n",
    "    T.Resize(256),\n",
    "    T.CenterCrop((224,224)),\n",
    "])\n",
    "\n",
    "\n",
    "ds = SOIB_Dataset(str(dataset_path), modality=modality, train=False, transforms=transform)"
   ]
  },
  {
   "cell_type": "code",
   "execution_count": null,
   "id": "4f646b97-af3f-42ba-b8ac-02e7bcef84ab",
   "metadata": {},
   "outputs": [],
   "source": [
    "model = torchvision.models.video.r3d_18()\n",
    "model.fc = torch.nn.Linear(512, 8, bias=True)\n",
    "model = model.cuda().eval()\n",
    "model.load_state_dict(torch.load(f'../WACV2022/weights/C3D_{net_modality}_15.pth'))"
   ]
  },
  {
   "cell_type": "code",
   "execution_count": null,
   "id": "c2963651-8765-4776-b53e-4f527d1e58a8",
   "metadata": {
    "tags": []
   },
   "outputs": [],
   "source": [
    "def evaluate(input, target=None):\n",
    "    output = model(normalize(input).permute(1,0,2,3).cuda().unsqueeze(0))\n",
    "    if target is None:\n",
    "        target = output.argmax().item()\n",
    "    gcam = gradcam(model, model.avgpool, vid, target)\n",
    "    rcams = rise(model, vid.permute(1,0,2,3).unsqueeze(0), N=100)\n",
    "    scams = sidu(model, model.avgpool, vid)\n",
    "\n",
    "    scores = {}\n",
    "    values = {}\n",
    "\n",
    "    with torch.cuda.amp.autocast():\n",
    "        for desc, cam in [('gcam', gcam), ('rcam', rcams[target]), ('scam', scams[target])]:\n",
    "            dels, dscore = deletion(model, vid, cam, target)\n",
    "            inss, iscore = insertion(model, vid, cam, target, factor=4)\n",
    "\n",
    "            scores[desc] = {'insertion': iscore, 'deletion': dscore}\n",
    "            values[desc] = {'insertion': inss, 'deletion': dels}\n",
    "    \n",
    "    return scores, values"
   ]
  },
  {
   "cell_type": "code",
   "execution_count": null,
   "id": "0b6da8b3-e5d2-4762-824c-b09ac2cf724b",
   "metadata": {
    "tags": []
   },
   "outputs": [],
   "source": [
    "scores = []\n",
    "values = []\n",
    "for i, (vid, target) in enumerate(tqdm(ds)):\n",
    "    s, v = evaluate(vid)\n",
    "    scores.append(s)\n",
    "    values.append(v)"
   ]
  },
  {
   "cell_type": "code",
   "execution_count": null,
   "id": "224a7dcf-0fab-4a1c-834b-f3b0b6e6f7a4",
   "metadata": {
    "tags": []
   },
   "outputs": [],
   "source": [
    "content = [(\n",
    "{\n",
    "    'experiment': i,\n",
    "    'cam_type': 'gcam',\n",
    "    'step': s,\n",
    "    'insertion': v['gcam']['insertion'][s].item(),\n",
    "    'deletion': v['gcam']['deletion'][s].item(),\n",
    "},\n",
    "{\n",
    "    'experiment': i,\n",
    "    'cam_type': 'scam',\n",
    "    'step': s,\n",
    "    'insertion': v['scam']['insertion'][s].item(),\n",
    "    'deletion': v['scam']['deletion'][s].item(),\n",
    "},\n",
    "{\n",
    "    'experiment': i,\n",
    "    'cam_type': 'rcam',\n",
    "    'step': s,\n",
    "    'insertion': v['rcam']['insertion'][s].item(),\n",
    "    'deletion': v['rcam']['deletion'][s].item(),\n",
    "},\n",
    ") for i, v in enumerate(values) for s in range(len(values[0]['gcam']['insertion']))]\n",
    "\n",
    "df = []\n",
    "for c in content:\n",
    "    df += c"
   ]
  },
  {
   "cell_type": "code",
   "execution_count": null,
   "id": "d1947f20-2173-499e-9f8c-a7e5913e6c95",
   "metadata": {
    "tags": []
   },
   "outputs": [],
   "source": [
    "import pandas\n",
    "import seaborn as sns\n",
    "\n",
    "df = pandas.DataFrame(df)"
   ]
  },
  {
   "cell_type": "code",
   "execution_count": null,
   "id": "db2868b2-ed56-4ea3-8d97-3e02b7f58753",
   "metadata": {},
   "outputs": [],
   "source": [
    "from sklearn.metrics import auc\n",
    "aucs = {}\n",
    "for j, cam in df.groupby('cam_type'):\n",
    "    aucs[j] = {'deletion': [], 'insertion': []}\n",
    "    for i, g in cam.groupby('experiment'):\n",
    "        aucs[j]['deletion'].append(auc(g['step'], g['deletion']))\n",
    "        aucs[j]['insertion'].append(auc(g['step'], g['insertion']))"
   ]
  },
  {
   "cell_type": "code",
   "execution_count": null,
   "id": "ee10f11e-2b0f-4bec-a4a0-ae0a04f10f2c",
   "metadata": {
    "tags": []
   },
   "outputs": [],
   "source": [
    "fig, (ax1, ax2) = plt.subplots(1, 2, figsize=(16,8))\n",
    "ax1.set_title('Insertion')\n",
    "ax2.set_title('Deletion')\n",
    "\n",
    "sns.lineplot(y='insertion', x='step', data=df[df.cam_type=='gcam'], ax=ax1, label=f'Grad-CAM AUC=${np.mean(aucs[\"gcam\"][\"insertion\"]):0.2f}\\pm {np.std(aucs[\"gcam\"][\"insertion\"]):0.2f}$')\n",
    "sns.lineplot(y='insertion', x='step', data=df[df.cam_type=='scam'], ax=ax1, label=f'SIDU AUC=${np.mean(aucs[\"scam\"][\"insertion\"]):0.2f}\\pm {np.std(aucs[\"scam\"][\"insertion\"]):0.2f}$')\n",
    "sns.lineplot(y='insertion', x='step', data=df[df.cam_type=='rcam'], ax=ax1, label=f'RISE AUC=${np.mean(aucs[\"rcam\"][\"insertion\"]):0.2f}\\pm {np.std(aucs[\"rcam\"][\"insertion\"]):0.2f}$')\n",
    "\n",
    "sns.lineplot(y='deletion', x='step', data=df[df.cam_type=='gcam'], ax=ax2, label=f'Grad-CAM AUC=${np.mean(aucs[\"gcam\"][\"deletion\"]):0.2f}\\pm {np.std(aucs[\"gcam\"][\"deletion\"]):0.2f}$')\n",
    "sns.lineplot(y='deletion', x='step', data=df[df.cam_type=='scam'], ax=ax2, label=f'SIDU AUC=${np.mean(aucs[\"scam\"][\"deletion\"]):0.2f}\\pm {np.std(aucs[\"scam\"][\"deletion\"]):0.2f}$')\n",
    "sns.lineplot(y='deletion', x='step', data=df[df.cam_type=='rcam'], ax=ax2, label=f'RISE AUC=${np.mean(aucs[\"rcam\"][\"deletion\"]):0.2f}\\pm {np.std(aucs[\"rcam\"][\"deletion\"]):0.2f}$')"
   ]
  }
 ],
 "metadata": {
  "kernelspec": {
   "display_name": "Python 3 (ipykernel)",
   "language": "python",
   "name": "python3"
  },
  "language_info": {
   "codemirror_mode": {
    "name": "ipython",
    "version": 3
   },
   "file_extension": ".py",
   "mimetype": "text/x-python",
   "name": "python",
   "nbconvert_exporter": "python",
   "pygments_lexer": "ipython3",
   "version": "3.9.6"
  }
 },
 "nbformat": 4,
 "nbformat_minor": 5
}
